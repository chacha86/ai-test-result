{
  "nbformat": 4,
  "nbformat_minor": 0,
  "metadata": {
    "colab": {
      "provenance": [],
      "authorship_tag": "ABX9TyNi/BVY91qIMd6jVzem1UpA",
      "include_colab_link": true
    },
    "kernelspec": {
      "name": "python3",
      "display_name": "Python 3"
    },
    "language_info": {
      "name": "python"
    }
  },
  "cells": [
    {
      "cell_type": "markdown",
      "metadata": {
        "id": "view-in-github",
        "colab_type": "text"
      },
      "source": [
        "<a href=\"https://colab.research.google.com/github/chacha86/ai-test-result/blob/main/%EB%A8%B8%EC%8B%A0%EB%9F%AC%EB%8B%9D_%EA%B9%80%ED%83%9C%EC%9B%90.ipynb\" target=\"_parent\"><img src=\"https://colab.research.google.com/assets/colab-badge.svg\" alt=\"Open In Colab\"/></a>"
      ]
    },
    {
      "cell_type": "code",
      "source": [
        "# 선형회귀"
      ],
      "metadata": {
        "id": "l-9jjLttLLrg"
      },
      "execution_count": 1,
      "outputs": []
    },
    {
      "cell_type": "code",
      "execution_count": null,
      "metadata": {
        "id": "gNI9Cq6YpGJX"
      },
      "outputs": [],
      "source": [
        "file_url = 'https://media.githubusercontent.com/media/musthave-ML10/data_source/main/insurance.csv'\n",
        "\n",
        "data = pd.read_csv(file_url) # 데이터셋 읽기"
      ]
    },
    {
      "cell_type": "code",
      "source": [
        "data.head()"
      ],
      "metadata": {
        "id": "K8mel5HZsFP5"
      },
      "execution_count": null,
      "outputs": []
    },
    {
      "cell_type": "code",
      "source": [
        "data.info()"
      ],
      "metadata": {
        "id": "lIZpiUWItAi9"
      },
      "execution_count": null,
      "outputs": []
    },
    {
      "cell_type": "code",
      "source": [
        "data.describe()"
      ],
      "metadata": {
        "id": "P78Rf72CtSAt"
      },
      "execution_count": null,
      "outputs": []
    },
    {
      "cell_type": "code",
      "source": [
        "round(data.describe( ) , 2)"
      ],
      "metadata": {
        "id": "_giSvE_sth_m"
      },
      "execution_count": null,
      "outputs": []
    },
    {
      "cell_type": "code",
      "source": [
        "X = data[['age', 'sex', 'bmi', 'children', 'smoker']] # 독립변수\n",
        "y = data['charges'] # 종속변수"
      ],
      "metadata": {
        "id": "IZO9y4HItieP"
      },
      "execution_count": null,
      "outputs": []
    },
    {
      "cell_type": "code",
      "source": [
        "X"
      ],
      "metadata": {
        "id": "m3CKtPL0vKJj"
      },
      "execution_count": null,
      "outputs": []
    },
    {
      "cell_type": "code",
      "source": [
        "y"
      ],
      "metadata": {
        "id": "ZsDOlDPLvMhI"
      },
      "execution_count": null,
      "outputs": []
    },
    {
      "cell_type": "code",
      "source": [
        "from sklearn.model_selection import train_test_split # 사이킷런 임포트\n",
        "\n",
        "X_train, X_test, y_train, y_test = train_test_split(X, y, test_size = 0.2,\n",
        "random_state=100) # 데이터셋 분할"
      ],
      "metadata": {
        "id": "gikLHFTWvenD"
      },
      "execution_count": null,
      "outputs": []
    },
    {
      "cell_type": "code",
      "source": [
        "from sklearn.linear_model import LinearRegression\n",
        "\n",
        "model = LinearRegression()\n",
        "model.fit(X_train, y_train)\n",
        "\n"
      ],
      "metadata": {
        "id": "A8vASe-ywNcQ"
      },
      "execution_count": null,
      "outputs": []
    },
    {
      "cell_type": "code",
      "source": [
        "pred = model.predict(X_test)"
      ],
      "metadata": {
        "id": "b01naEIEwjVO"
      },
      "execution_count": null,
      "outputs": []
    },
    {
      "cell_type": "code",
      "source": [
        "X_test"
      ],
      "metadata": {
        "id": "kINCj1k9xVwe"
      },
      "execution_count": null,
      "outputs": []
    },
    {
      "cell_type": "code",
      "source": [
        "pred"
      ],
      "metadata": {
        "id": "aRIEZsVnxXWd"
      },
      "execution_count": null,
      "outputs": []
    },
    {
      "cell_type": "code",
      "source": [
        "comparison = pd.DataFrame({'actual': y_test, 'pred': pred})"
      ],
      "metadata": {
        "id": "hnghS85AyR-M"
      },
      "execution_count": null,
      "outputs": []
    },
    {
      "cell_type": "code",
      "source": [
        "comparison"
      ],
      "metadata": {
        "id": "fv1TrNTXyWB0"
      },
      "execution_count": null,
      "outputs": []
    },
    {
      "cell_type": "code",
      "source": [
        "import matplotlib.pyplot as plt # ①\n",
        "import seaborn as sns # ②"
      ],
      "metadata": {
        "id": "IyegbmF4yXOd"
      },
      "execution_count": null,
      "outputs": []
    },
    {
      "cell_type": "code",
      "source": [
        "plt.figure(figsize=(10,10)) # ① 그래프 크기 정의\n",
        "sns.scatterplot(x = 'actual', y = 'pred', data = comparison) # ②"
      ],
      "metadata": {
        "id": "ZUwHPxlzyuNX"
      },
      "execution_count": null,
      "outputs": []
    },
    {
      "cell_type": "code",
      "source": [
        "from sklearn.metrics import mean_squared_error # ① MSE 라이브러리 임포트\n",
        "mean_squared_error(y_test, pred) ** 0.5 # ② RMSE 계산 실행"
      ],
      "metadata": {
        "id": "NVnAmy__yv-U"
      },
      "execution_count": null,
      "outputs": []
    },
    {
      "cell_type": "code",
      "source": [
        "# 로지스틱 회귀"
      ],
      "metadata": {
        "id": "K50mlHLFLHU0"
      },
      "execution_count": null,
      "outputs": []
    },
    {
      "cell_type": "code",
      "source": [
        "import pandas as pd # 판다스 라이브러리 임포트\n",
        "file_url = 'https://media.githubusercontent.com/media/musthave-ML10/data_source/main/titanic.csv'\n",
        "data = pd.read_csv(file_url) # 데이터셋 읽기"
      ],
      "metadata": {
        "id": "GosfwiJoLH4B"
      },
      "execution_count": null,
      "outputs": []
    },
    {
      "cell_type": "code",
      "source": [
        "# 데이터 요약 정보 확인\n",
        "data.info()"
      ],
      "metadata": {
        "id": "co-CycY9LSJO"
      },
      "execution_count": null,
      "outputs": []
    },
    {
      "cell_type": "code",
      "source": [
        "# 데이터 요약 통계 정보 확인\n",
        "data.describe()"
      ],
      "metadata": {
        "id": "SrWQuyT0LYIh"
      },
      "execution_count": null,
      "outputs": []
    },
    {
      "cell_type": "code",
      "source": [
        "# Name 컬럼의 고유값 개수 확인"
      ],
      "metadata": {
        "id": "pwsYF2QVLbV_"
      },
      "execution_count": null,
      "outputs": []
    },
    {
      "cell_type": "code",
      "source": [
        "# Name컬럼과 Ticket 컬럼은 고유값이 많아서 인코딩 대상으로 적절치 않으므로 삭제"
      ],
      "metadata": {
        "id": "C3_3PfAKLl-x"
      },
      "execution_count": null,
      "outputs": []
    },
    {
      "cell_type": "code",
      "source": [
        "# Name과 Ticket 컬럼이 삭제된 결과 head를 이용해 확인"
      ],
      "metadata": {
        "id": "C1yNqAG_LoW9"
      },
      "execution_count": null,
      "outputs": []
    },
    {
      "cell_type": "code",
      "source": [
        "# 남은 범주형 데이를 원핫 인코딩"
      ],
      "metadata": {
        "id": "K_DhSA2ELyC7"
      },
      "execution_count": null,
      "outputs": []
    },
    {
      "cell_type": "code",
      "source": [
        "# 문제와 정답으로 데이터를 분리하고 학습데이터와 테스트데이터를 8:2로 분리하기"
      ],
      "metadata": {
        "id": "K7CbGg5zLrIj"
      },
      "execution_count": null,
      "outputs": []
    },
    {
      "cell_type": "code",
      "source": [
        "# 학습 데이터를 이용해 로지스틱 회귀 모델 학습"
      ],
      "metadata": {
        "id": "h_aq77zQL8Qb"
      },
      "execution_count": null,
      "outputs": []
    },
    {
      "cell_type": "code",
      "source": [
        "# 테스트 데이터를 예측하고 출력"
      ],
      "metadata": {
        "id": "nmYwFo80MDG1"
      },
      "execution_count": null,
      "outputs": []
    },
    {
      "cell_type": "code",
      "source": [
        "# 정확도 평가"
      ],
      "metadata": {
        "id": "7O64zyM2MHpv"
      },
      "execution_count": null,
      "outputs": []
    }
  ]
}