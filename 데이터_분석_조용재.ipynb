{
  "nbformat": 4,
  "nbformat_minor": 0,
  "metadata": {
    "colab": {
      "provenance": [],
      "authorship_tag": "ABX9TyNcydYbR6YM0xFFTLr8+Pl2",
      "include_colab_link": true
    },
    "kernelspec": {
      "name": "python3",
      "display_name": "Python 3"
    },
    "language_info": {
      "name": "python"
    }
  },
  "cells": [
    {
      "cell_type": "markdown",
      "metadata": {
        "id": "view-in-github",
        "colab_type": "text"
      },
      "source": [
        "<a href=\"https://colab.research.google.com/github/chacha86/ai-test-result/blob/main/%EB%8D%B0%EC%9D%B4%ED%84%B0_%EB%B6%84%EC%84%9D_%EC%A1%B0%EC%9A%A9%EC%9E%AC.ipynb\" target=\"_parent\"><img src=\"https://colab.research.google.com/assets/colab-badge.svg\" alt=\"Open In Colab\"/></a>"
      ]
    },
    {
      "cell_type": "code",
      "execution_count": null,
      "metadata": {
        "id": "JzvSTkxzCNn5"
      },
      "outputs": [],
      "source": [
        "import pandas as pd\n",
        "stu = pd.read_excel('/content/students.xlsx')"
      ]
    },
    {
      "cell_type": "code",
      "source": [
        "stu"
      ],
      "metadata": {
        "id": "9xIKtMa2K1fr"
      },
      "execution_count": null,
      "outputs": []
    },
    {
      "cell_type": "code",
      "source": [
        "# 위에서 5개 확인\n",
        "\n",
        "stu.head()\n"
      ],
      "metadata": {
        "id": "1NlVpXc6CTJ9"
      },
      "execution_count": null,
      "outputs": []
    },
    {
      "cell_type": "code",
      "source": [
        "# 아래에서 5개 확인\n",
        "stu.tail()"
      ],
      "metadata": {
        "id": "8CNZG0SGCWAg"
      },
      "execution_count": null,
      "outputs": []
    },
    {
      "cell_type": "code",
      "source": [
        "# 요약 정보 보기\n",
        "stu.info()"
      ],
      "metadata": {
        "id": "80SCI7lICXQh"
      },
      "execution_count": null,
      "outputs": []
    },
    {
      "cell_type": "code",
      "source": [
        "# 통계 정보 보기\n",
        "stu.describe()"
      ],
      "metadata": {
        "id": "BoOmPJo1CbSk"
      },
      "execution_count": null,
      "outputs": []
    },
    {
      "cell_type": "code",
      "source": [
        "# 컬럼 목록 리스트로 가져오기\n",
        "\n",
        "stu.columns.values"
      ],
      "metadata": {
        "id": "5SNH_3E4CcFB",
        "colab": {
          "base_uri": "https://localhost:8080/"
        },
        "outputId": "d829e63b-dedb-4095-ca97-6c773767b736"
      },
      "execution_count": null,
      "outputs": [
        {
          "output_type": "execute_result",
          "data": {
            "text/plain": [
              "array(['번호', '이름', '국어', '영어', '수학', '지역명', '생년월일'], dtype=object)"
            ]
          },
          "metadata": {},
          "execution_count": 11
        }
      ]
    },
    {
      "cell_type": "code",
      "source": [
        "# 인덱스 목록 리스트로 가져오기\n",
        "stu.index.values"
      ],
      "metadata": {
        "id": "zIVuho4RCemZ"
      },
      "execution_count": null,
      "outputs": []
    },
    {
      "cell_type": "code",
      "source": [
        "# 특정 컬럼 삭제\n",
        "stu.drop('생년월일', axis=1)\n",
        "\n",
        "\n",
        "# 특정 로우 삭제\n",
        "stu.drop(4, axis=0)\n",
        "\n",
        "\n",
        "# 특정 컬럼 여러개 삭제\n",
        "stu.drop(['생년월일', '지역명'], axis=1)"
      ],
      "metadata": {
        "id": "_oX4fapcCg-S"
      },
      "execution_count": null,
      "outputs": []
    },
    {
      "cell_type": "code",
      "source": [
        "# 특정 컬럼 선택\n",
        "stu['이름']\n",
        "stu['수학']\n",
        "\n",
        "# 특정 컬럼 여러개 선택\n",
        "stu[['이름', '수학']]\n",
        "\n",
        "stu[['국어', '영어', '수학']]"
      ],
      "metadata": {
        "id": "y9jJs_M_Cl9-"
      },
      "execution_count": null,
      "outputs": []
    },
    {
      "cell_type": "code",
      "source": [
        "# 특정 로우 선택(인덱스 값으로)\n",
        "stu.loc[4]\n",
        "\n",
        "\n",
        "# 특정 로우(인덱스 순서로)\n",
        "stu.iloc[5]\n",
        "\n",
        "# 특정 컬럼의 특정 로우 선택\n",
        "stu.loc[4, '수학']\n",
        "stu.loc[4, ['이름', '국어', '영어', '수학']]\n",
        "\n",
        "stu.loc[[4, 6], ['이름', '국어', '영어']]\n",
        "\n",
        "stu.loc[4:6, ['이름', '국어', '영어'] ]"
      ],
      "metadata": {
        "id": "skhuDLQ2CqEN"
      },
      "execution_count": null,
      "outputs": []
    },
    {
      "cell_type": "code",
      "source": [
        "# boolean 접근\n",
        "\n",
        "stu_5 = stu.head()\n",
        "\n",
        "stu_5.loc[[0, 4]]\n",
        "\n",
        "stu_5.loc[[True, False, False, False, True]]\n",
        "\n",
        "stu_5.loc[[False, True, True, False, False]]\n",
        "\n",
        "# 조건으로 로우 선택\n",
        "\n",
        "idx = stu_5['수학'] < 80\n",
        "stu_5.loc[idx]\n",
        "\n",
        "stu_5.loc[stu_5['지역명'] == '대전']"
      ],
      "metadata": {
        "id": "WjCRuvRPCybk"
      },
      "execution_count": null,
      "outputs": []
    },
    {
      "cell_type": "code",
      "source": [
        "# 아래 문제를 해결해주세요.\n",
        "\n",
        "\n",
        "# 1. 국어가 80점 이상인 학생의 이름과 생년월일\n",
        "stu[stu['국어'] >= 80][['이름', '생년월일']]\n",
        "\n",
        "\n",
        "# 2. 수학이 80점 미만인 학생의 영어와 국어 점수\n",
        "stu.loc[stu['수학'] < 80][['영어', '국어']]\n",
        "\n",
        "\n",
        "# 3. 국어와 수학이 90점 이상인 학생의 이름, 수학, 국어 점수\n",
        "stu.loc[(stu['국어'] >= 90) & (stu['수학'] >= 90)]\n",
        "\n",
        "\n",
        "# 4. 모든 과목이 60점 미만인 학생의 번호, 이름, 생년월일\n",
        "stu.loc[(stu['국어'] < 60) & (stu['영어'] < 60) & (stu['수학'] < 60)][['번호', '이름', '생년월일']]\n",
        "\n",
        "# 5. 대전 지역 학생들의 이름, 국어, 영어, 수학 점수\n",
        "stu.loc[stu['지역명'] == '대전'][['이름','국어','영어', '수학']]"
      ],
      "metadata": {
        "id": "EJ8C5C1JC-kV"
      },
      "execution_count": null,
      "outputs": []
    },
    {
      "cell_type": "code",
      "source": [
        "# 정렬\n",
        "\n",
        "# 오름차순\n",
        "stu.sort_values('수학')\n",
        "\n",
        "# 내림차순\n",
        "stu.sort_values('수학', ascending=False)\n",
        "\n",
        "# 복합 정렬\n",
        "stu.sort_values(['수학', '국어'], ascending=[False, False])"
      ],
      "metadata": {
        "id": "XdA-JDrWC4Mk"
      },
      "execution_count": null,
      "outputs": []
    },
    {
      "cell_type": "code",
      "source": [
        "# 집계(그룹핑)\n",
        "stu.groupby('지역명')['수학'].mean()\n",
        "stu.groupby('지역명')['수학'].sum()\n",
        "stu.groupby('지역명')['수학'].max()\n",
        "stu.groupby('지역명')['수학'].min()"
      ],
      "metadata": {
        "id": "6F_54E6kDgo7"
      },
      "execution_count": null,
      "outputs": []
    },
    {
      "cell_type": "code",
      "source": [
        "# 아래 문제를 해결해주세요.\n",
        "\n",
        "\n",
        "# 1. 학생들의 총점, 평균 구하기\n",
        "stu[['국어', '영어', '수학']].mean(axis=1)\n",
        "stu[['국어', '영어', '수학']].sum(axis=1)\n",
        "\n",
        "\n",
        "\n",
        "# 2. 학생들의 평균이 높은 순으로 정렬. 만약 평균이 같다면 학번으로 오름차순\n",
        "stu['평균'] = stu[['국어', '영어', '수학']].mean(axis=1)\n",
        "stu.sort_values(['평균', '번호'], ascending=[False, True])"
      ],
      "metadata": {
        "id": "tHL-HbNWDIkQ"
      },
      "execution_count": null,
      "outputs": []
    }
  ]
}