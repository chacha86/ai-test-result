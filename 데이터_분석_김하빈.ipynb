{
  "nbformat": 4,
  "nbformat_minor": 0,
  "metadata": {
    "colab": {
      "provenance": [],
      "authorship_tag": "ABX9TyOusdvKse/5GwgJs+EMa7mE",
      "include_colab_link": true
    },
    "kernelspec": {
      "name": "python3",
      "display_name": "Python 3"
    },
    "language_info": {
      "name": "python"
    }
  },
  "cells": [
    {
      "cell_type": "markdown",
      "metadata": {
        "id": "view-in-github",
        "colab_type": "text"
      },
      "source": [
        "<a href=\"https://colab.research.google.com/github/chacha86/ai-test-result/blob/main/%EB%8D%B0%EC%9D%B4%ED%84%B0_%EB%B6%84%EC%84%9D_%EA%B9%80%ED%95%98%EB%B9%88.ipynb\" target=\"_parent\"><img src=\"https://colab.research.google.com/assets/colab-badge.svg\" alt=\"Open In Colab\"/></a>"
      ]
    },
    {
      "cell_type": "code",
      "execution_count": null,
      "metadata": {
        "id": "JzvSTkxzCNn5"
      },
      "outputs": [],
      "source": [
        "import pandas as pd\n",
        "stu = pd.read_excel('/content/students.xlsx')"
      ]
    },
    {
      "cell_type": "code",
      "source": [
        "stu"
      ],
      "metadata": {
        "id": "9xIKtMa2K1fr"
      },
      "execution_count": null,
      "outputs": []
    },
    {
      "cell_type": "code",
      "source": [
        "# 위에서 5개 확인\n",
        "\n",
        "stu.head()\n"
      ],
      "metadata": {
        "id": "1NlVpXc6CTJ9"
      },
      "execution_count": null,
      "outputs": []
    },
    {
      "cell_type": "code",
      "source": [
        "# 아래에서 5개 확인\n",
        "stu.tail()"
      ],
      "metadata": {
        "id": "8CNZG0SGCWAg"
      },
      "execution_count": null,
      "outputs": []
    },
    {
      "cell_type": "code",
      "source": [
        "# 요약 정보 보기\n",
        "stu.info()"
      ],
      "metadata": {
        "id": "80SCI7lICXQh"
      },
      "execution_count": null,
      "outputs": []
    },
    {
      "cell_type": "code",
      "source": [
        "# 통계 정보 보기\n",
        "stu.describe()"
      ],
      "metadata": {
        "id": "BoOmPJo1CbSk"
      },
      "execution_count": null,
      "outputs": []
    },
    {
      "cell_type": "code",
      "source": [
        "# 컬럼 목록 리스트로 가져오기\n",
        "\n",
        "stu.columns.values"
      ],
      "metadata": {
        "id": "5SNH_3E4CcFB",
        "colab": {
          "base_uri": "https://localhost:8080/"
        },
        "outputId": "d829e63b-dedb-4095-ca97-6c773767b736"
      },
      "execution_count": null,
      "outputs": [
        {
          "output_type": "execute_result",
          "data": {
            "text/plain": [
              "array(['번호', '이름', '국어', '영어', '수학', '지역명', '생년월일'], dtype=object)"
            ]
          },
          "metadata": {},
          "execution_count": 11
        }
      ]
    },
    {
      "cell_type": "code",
      "source": [
        "# 인덱스 목록 리스트로 가져오기\n",
        "stu.index.values"
      ],
      "metadata": {
        "id": "zIVuho4RCemZ"
      },
      "execution_count": null,
      "outputs": []
    },
    {
      "cell_type": "code",
      "source": [
        "# 특정 컬럼 삭제\n",
        "stu.drop('생년월일', axis=1)\n",
        "\n",
        "\n",
        "# 특정 로우 삭제\n",
        "stu.drop(4, axis=0)\n",
        "\n",
        "\n",
        "# 특정 컬럼 여러개 삭제\n",
        "stu.drop(['생년월일', '지역명'], axis=1)"
      ],
      "metadata": {
        "id": "_oX4fapcCg-S"
      },
      "execution_count": null,
      "outputs": []
    },
    {
      "cell_type": "code",
      "source": [
        "# 특정 컬럼 선택\n",
        "stu['이름']\n",
        "stu['수학']\n",
        "\n",
        "# 특정 컬럼 여러개 선택\n",
        "stu[['이름', '수학']]\n",
        "\n",
        "stu[['국어', '영어', '수학']]"
      ],
      "metadata": {
        "id": "y9jJs_M_Cl9-"
      },
      "execution_count": null,
      "outputs": []
    },
    {
      "cell_type": "code",
      "source": [
        "# 특정 로우 선택(인덱스 값으로)\n",
        "stu.loc[4]\n",
        "\n",
        "\n",
        "# 특정 로우(인덱스 순서로)\n",
        "stu.iloc[5]\n",
        "\n",
        "# 특정 컬럼의 특정 로우 선택\n",
        "stu.loc[4, '수학']\n",
        "stu.loc[4, ['이름', '국어', '영어', '수학']]\n",
        "\n",
        "stu.loc[[4, 6], ['이름', '국어', '영어']]\n",
        "\n",
        "stu.loc[4:6, ['이름', '국어', '영어'] ]"
      ],
      "metadata": {
        "id": "skhuDLQ2CqEN"
      },
      "execution_count": null,
      "outputs": []
    },
    {
      "cell_type": "code",
      "source": [
        "# boolean 접근\n",
        "\n",
        "stu_5 = stu.head()\n",
        "\n",
        "stu_5.loc[[0, 4]]\n",
        "\n",
        "stu_5.loc[[True, False, False, False, True]]\n",
        "\n",
        "stu_5.loc[[False, True, True, False, False]]\n",
        "\n",
        "# 조건으로 로우 선택\n",
        "\n",
        "idx = stu_5['수학'] < 80\n",
        "stu_5.loc[idx]\n",
        "\n",
        "stu_5.loc[stu_5['지역명'] == '대전']"
      ],
      "metadata": {
        "id": "WjCRuvRPCybk",
        "colab": {
          "base_uri": "https://localhost:8080/",
          "height": 112
        },
        "outputId": "8e041593-709a-4b25-85c7-5c2627fd5228"
      },
      "execution_count": null,
      "outputs": [
        {
          "output_type": "execute_result",
          "data": {
            "text/plain": [
              "   번호   이름  국어  영어  수학 지역명       생년월일\n",
              "0   1  이현진  68  77  81  대전 2050-08-17\n",
              "4   5  김혜수  83  76  67  대전 2050-01-25"
            ],
            "text/html": [
              "\n",
              "  <div id=\"df-12a31107-361a-45ec-8655-64ea41c6f4d7\" class=\"colab-df-container\">\n",
              "    <div>\n",
              "<style scoped>\n",
              "    .dataframe tbody tr th:only-of-type {\n",
              "        vertical-align: middle;\n",
              "    }\n",
              "\n",
              "    .dataframe tbody tr th {\n",
              "        vertical-align: top;\n",
              "    }\n",
              "\n",
              "    .dataframe thead th {\n",
              "        text-align: right;\n",
              "    }\n",
              "</style>\n",
              "<table border=\"1\" class=\"dataframe\">\n",
              "  <thead>\n",
              "    <tr style=\"text-align: right;\">\n",
              "      <th></th>\n",
              "      <th>번호</th>\n",
              "      <th>이름</th>\n",
              "      <th>국어</th>\n",
              "      <th>영어</th>\n",
              "      <th>수학</th>\n",
              "      <th>지역명</th>\n",
              "      <th>생년월일</th>\n",
              "    </tr>\n",
              "  </thead>\n",
              "  <tbody>\n",
              "    <tr>\n",
              "      <th>0</th>\n",
              "      <td>1</td>\n",
              "      <td>이현진</td>\n",
              "      <td>68</td>\n",
              "      <td>77</td>\n",
              "      <td>81</td>\n",
              "      <td>대전</td>\n",
              "      <td>2050-08-17</td>\n",
              "    </tr>\n",
              "    <tr>\n",
              "      <th>4</th>\n",
              "      <td>5</td>\n",
              "      <td>김혜수</td>\n",
              "      <td>83</td>\n",
              "      <td>76</td>\n",
              "      <td>67</td>\n",
              "      <td>대전</td>\n",
              "      <td>2050-01-25</td>\n",
              "    </tr>\n",
              "  </tbody>\n",
              "</table>\n",
              "</div>\n",
              "    <div class=\"colab-df-buttons\">\n",
              "\n",
              "  <div class=\"colab-df-container\">\n",
              "    <button class=\"colab-df-convert\" onclick=\"convertToInteractive('df-12a31107-361a-45ec-8655-64ea41c6f4d7')\"\n",
              "            title=\"Convert this dataframe to an interactive table.\"\n",
              "            style=\"display:none;\">\n",
              "\n",
              "  <svg xmlns=\"http://www.w3.org/2000/svg\" height=\"24px\" viewBox=\"0 -960 960 960\">\n",
              "    <path d=\"M120-120v-720h720v720H120Zm60-500h600v-160H180v160Zm220 220h160v-160H400v160Zm0 220h160v-160H400v160ZM180-400h160v-160H180v160Zm440 0h160v-160H620v160ZM180-180h160v-160H180v160Zm440 0h160v-160H620v160Z\"/>\n",
              "  </svg>\n",
              "    </button>\n",
              "\n",
              "  <style>\n",
              "    .colab-df-container {\n",
              "      display:flex;\n",
              "      gap: 12px;\n",
              "    }\n",
              "\n",
              "    .colab-df-convert {\n",
              "      background-color: #E8F0FE;\n",
              "      border: none;\n",
              "      border-radius: 50%;\n",
              "      cursor: pointer;\n",
              "      display: none;\n",
              "      fill: #1967D2;\n",
              "      height: 32px;\n",
              "      padding: 0 0 0 0;\n",
              "      width: 32px;\n",
              "    }\n",
              "\n",
              "    .colab-df-convert:hover {\n",
              "      background-color: #E2EBFA;\n",
              "      box-shadow: 0px 1px 2px rgba(60, 64, 67, 0.3), 0px 1px 3px 1px rgba(60, 64, 67, 0.15);\n",
              "      fill: #174EA6;\n",
              "    }\n",
              "\n",
              "    .colab-df-buttons div {\n",
              "      margin-bottom: 4px;\n",
              "    }\n",
              "\n",
              "    [theme=dark] .colab-df-convert {\n",
              "      background-color: #3B4455;\n",
              "      fill: #D2E3FC;\n",
              "    }\n",
              "\n",
              "    [theme=dark] .colab-df-convert:hover {\n",
              "      background-color: #434B5C;\n",
              "      box-shadow: 0px 1px 3px 1px rgba(0, 0, 0, 0.15);\n",
              "      filter: drop-shadow(0px 1px 2px rgba(0, 0, 0, 0.3));\n",
              "      fill: #FFFFFF;\n",
              "    }\n",
              "  </style>\n",
              "\n",
              "    <script>\n",
              "      const buttonEl =\n",
              "        document.querySelector('#df-12a31107-361a-45ec-8655-64ea41c6f4d7 button.colab-df-convert');\n",
              "      buttonEl.style.display =\n",
              "        google.colab.kernel.accessAllowed ? 'block' : 'none';\n",
              "\n",
              "      async function convertToInteractive(key) {\n",
              "        const element = document.querySelector('#df-12a31107-361a-45ec-8655-64ea41c6f4d7');\n",
              "        const dataTable =\n",
              "          await google.colab.kernel.invokeFunction('convertToInteractive',\n",
              "                                                    [key], {});\n",
              "        if (!dataTable) return;\n",
              "\n",
              "        const docLinkHtml = 'Like what you see? Visit the ' +\n",
              "          '<a target=\"_blank\" href=https://colab.research.google.com/notebooks/data_table.ipynb>data table notebook</a>'\n",
              "          + ' to learn more about interactive tables.';\n",
              "        element.innerHTML = '';\n",
              "        dataTable['output_type'] = 'display_data';\n",
              "        await google.colab.output.renderOutput(dataTable, element);\n",
              "        const docLink = document.createElement('div');\n",
              "        docLink.innerHTML = docLinkHtml;\n",
              "        element.appendChild(docLink);\n",
              "      }\n",
              "    </script>\n",
              "  </div>\n",
              "\n",
              "\n",
              "<div id=\"df-0a73affd-3a75-45df-8968-df8a10981566\">\n",
              "  <button class=\"colab-df-quickchart\" onclick=\"quickchart('df-0a73affd-3a75-45df-8968-df8a10981566')\"\n",
              "            title=\"Suggest charts\"\n",
              "            style=\"display:none;\">\n",
              "\n",
              "<svg xmlns=\"http://www.w3.org/2000/svg\" height=\"24px\"viewBox=\"0 0 24 24\"\n",
              "     width=\"24px\">\n",
              "    <g>\n",
              "        <path d=\"M19 3H5c-1.1 0-2 .9-2 2v14c0 1.1.9 2 2 2h14c1.1 0 2-.9 2-2V5c0-1.1-.9-2-2-2zM9 17H7v-7h2v7zm4 0h-2V7h2v10zm4 0h-2v-4h2v4z\"/>\n",
              "    </g>\n",
              "</svg>\n",
              "  </button>\n",
              "\n",
              "<style>\n",
              "  .colab-df-quickchart {\n",
              "      --bg-color: #E8F0FE;\n",
              "      --fill-color: #1967D2;\n",
              "      --hover-bg-color: #E2EBFA;\n",
              "      --hover-fill-color: #174EA6;\n",
              "      --disabled-fill-color: #AAA;\n",
              "      --disabled-bg-color: #DDD;\n",
              "  }\n",
              "\n",
              "  [theme=dark] .colab-df-quickchart {\n",
              "      --bg-color: #3B4455;\n",
              "      --fill-color: #D2E3FC;\n",
              "      --hover-bg-color: #434B5C;\n",
              "      --hover-fill-color: #FFFFFF;\n",
              "      --disabled-bg-color: #3B4455;\n",
              "      --disabled-fill-color: #666;\n",
              "  }\n",
              "\n",
              "  .colab-df-quickchart {\n",
              "    background-color: var(--bg-color);\n",
              "    border: none;\n",
              "    border-radius: 50%;\n",
              "    cursor: pointer;\n",
              "    display: none;\n",
              "    fill: var(--fill-color);\n",
              "    height: 32px;\n",
              "    padding: 0;\n",
              "    width: 32px;\n",
              "  }\n",
              "\n",
              "  .colab-df-quickchart:hover {\n",
              "    background-color: var(--hover-bg-color);\n",
              "    box-shadow: 0 1px 2px rgba(60, 64, 67, 0.3), 0 1px 3px 1px rgba(60, 64, 67, 0.15);\n",
              "    fill: var(--button-hover-fill-color);\n",
              "  }\n",
              "\n",
              "  .colab-df-quickchart-complete:disabled,\n",
              "  .colab-df-quickchart-complete:disabled:hover {\n",
              "    background-color: var(--disabled-bg-color);\n",
              "    fill: var(--disabled-fill-color);\n",
              "    box-shadow: none;\n",
              "  }\n",
              "\n",
              "  .colab-df-spinner {\n",
              "    border: 2px solid var(--fill-color);\n",
              "    border-color: transparent;\n",
              "    border-bottom-color: var(--fill-color);\n",
              "    animation:\n",
              "      spin 1s steps(1) infinite;\n",
              "  }\n",
              "\n",
              "  @keyframes spin {\n",
              "    0% {\n",
              "      border-color: transparent;\n",
              "      border-bottom-color: var(--fill-color);\n",
              "      border-left-color: var(--fill-color);\n",
              "    }\n",
              "    20% {\n",
              "      border-color: transparent;\n",
              "      border-left-color: var(--fill-color);\n",
              "      border-top-color: var(--fill-color);\n",
              "    }\n",
              "    30% {\n",
              "      border-color: transparent;\n",
              "      border-left-color: var(--fill-color);\n",
              "      border-top-color: var(--fill-color);\n",
              "      border-right-color: var(--fill-color);\n",
              "    }\n",
              "    40% {\n",
              "      border-color: transparent;\n",
              "      border-right-color: var(--fill-color);\n",
              "      border-top-color: var(--fill-color);\n",
              "    }\n",
              "    60% {\n",
              "      border-color: transparent;\n",
              "      border-right-color: var(--fill-color);\n",
              "    }\n",
              "    80% {\n",
              "      border-color: transparent;\n",
              "      border-right-color: var(--fill-color);\n",
              "      border-bottom-color: var(--fill-color);\n",
              "    }\n",
              "    90% {\n",
              "      border-color: transparent;\n",
              "      border-bottom-color: var(--fill-color);\n",
              "    }\n",
              "  }\n",
              "</style>\n",
              "\n",
              "  <script>\n",
              "    async function quickchart(key) {\n",
              "      const quickchartButtonEl =\n",
              "        document.querySelector('#' + key + ' button');\n",
              "      quickchartButtonEl.disabled = true;  // To prevent multiple clicks.\n",
              "      quickchartButtonEl.classList.add('colab-df-spinner');\n",
              "      try {\n",
              "        const charts = await google.colab.kernel.invokeFunction(\n",
              "            'suggestCharts', [key], {});\n",
              "      } catch (error) {\n",
              "        console.error('Error during call to suggestCharts:', error);\n",
              "      }\n",
              "      quickchartButtonEl.classList.remove('colab-df-spinner');\n",
              "      quickchartButtonEl.classList.add('colab-df-quickchart-complete');\n",
              "    }\n",
              "    (() => {\n",
              "      let quickchartButtonEl =\n",
              "        document.querySelector('#df-0a73affd-3a75-45df-8968-df8a10981566 button');\n",
              "      quickchartButtonEl.style.display =\n",
              "        google.colab.kernel.accessAllowed ? 'block' : 'none';\n",
              "    })();\n",
              "  </script>\n",
              "</div>\n",
              "\n",
              "    </div>\n",
              "  </div>\n"
            ]
          },
          "metadata": {},
          "execution_count": 58
        }
      ]
    },
    {
      "cell_type": "code",
      "source": [
        "# 아래 문제를 해결해주세요.\n",
        "\n",
        "\n",
        "# 1. 국어가 80점 이상인 학생의 이름과 생년월일\n",
        "\n",
        "\n",
        "# 2. 수학이 80점 미만인 학생의 영어와 국어 점수\n",
        "\n",
        "\n",
        "# 3. 국어와 수학이 90점 이상인 학생의 이름, 수학, 국어 점수\n",
        "\n",
        "\n",
        "# 4. 모든 과목이 60점 미만인 학생의 번호, 이름, 생년월일\n",
        "\n",
        "\n",
        "# 5. 대전 지역 학생들의 이름, 국어, 영어, 수학 점수"
      ],
      "metadata": {
        "id": "EJ8C5C1JC-kV"
      },
      "execution_count": null,
      "outputs": []
    },
    {
      "cell_type": "code",
      "source": [
        "# 정렬\n",
        "\n",
        "# 오름차순\n",
        "stu.sort_values('수학')\n",
        "\n",
        "# 내림차순\n",
        "stu.sort_values('수학', ascending=False)\n",
        "\n",
        "# 복합 정렬\n",
        "stu.sort_values(['수학', '국어'], ascending=[False, False])"
      ],
      "metadata": {
        "id": "XdA-JDrWC4Mk"
      },
      "execution_count": null,
      "outputs": []
    },
    {
      "cell_type": "code",
      "source": [
        "# 집계(그룹핑)\n",
        "stu.groupby('지역명')['수학'].mean()\n",
        "stu.groupby('지역명')['수학'].sum()\n",
        "stu.groupby('지역명')['수학'].max()\n",
        "stu.groupby('지역명')['수학'].min()"
      ],
      "metadata": {
        "id": "6F_54E6kDgo7"
      },
      "execution_count": null,
      "outputs": []
    },
    {
      "cell_type": "markdown",
      "source": [],
      "metadata": {
        "id": "UzgtHCU3h10p"
      }
    },
    {
      "cell_type": "code",
      "source": [
        "# 아래 문제를 해결해주세요.\n",
        "\n",
        "\n",
        "# 1. 학생들의 총점, 평균 구하기\n",
        "stu[['국어', '영어', '수학']].mean(axis=1)\n",
        "stu[['국어', '영어', '수학']].sum(axis=1)\n",
        "\n",
        "\n",
        "\n",
        "# 2. 학생들의 평균이 높은 순으로 정렬. 만약 평균이 같다면 학번으로 오름차순\n"
      ],
      "metadata": {
        "id": "tHL-HbNWDIkQ"
      },
      "execution_count": null,
      "outputs": []
    },
    {
      "cell_type": "code",
      "source": [
        "stu.sort_values(['평균', '번호'], ascending=[False, True])"
      ],
      "metadata": {
        "id": "mFF4N3b-Xv2y"
      },
      "execution_count": null,
      "outputs": []
    }
  ]
}